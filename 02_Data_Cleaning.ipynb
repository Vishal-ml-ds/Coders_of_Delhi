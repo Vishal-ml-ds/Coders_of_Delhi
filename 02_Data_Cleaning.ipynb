{
 "cells": [
  {
   "cell_type": "code",
   "execution_count": 9,
   "id": "71108ae4-215c-4daf-887b-f8db0c3f52c8",
   "metadata": {},
   "outputs": [
    {
     "name": "stdout",
     "output_type": "stream",
     "text": [
      "Data has been successfully cleaned\n"
     ]
    }
   ],
   "source": [
    "import json\n",
    "def clean_data(data):\n",
    "    # removing data for missing values\n",
    "    data[\"users\"] = [user \n",
    "                     for user in data[\"users\"]\n",
    "                     if user[\"name\"].strip()]\n",
    "                    \n",
    "    # remove duplicate friends\n",
    "    for user in data[\"users\"]:\n",
    "        user[\"friends\"] = list(set(user[\"friends\"]))  # pehle list ko set mein convert krdia ki duplicate remove hojaye fir vapis list mein\n",
    "\n",
    "    # remove inactive users\n",
    "    data[\"users\"] =[user\n",
    "                    for user in data[\"users\"]\n",
    "                    if user['friends'] or user['liked_pages']]\n",
    "    # remove duplicate pages\n",
    "    unique_pages = {}\n",
    "    for page in data['pages']:\n",
    "        unique_pages[page['id']] = page\n",
    "    data['pages'] = list(unique_pages.values())\n",
    "    return data\n",
    "    \n",
    "data = json.load(open(\"02_Data.json\"))\n",
    "data = clean_data(data)\n",
    "json.dump(data, open(\"02_Cleaned_Data.json\", \"w\"), indent = 4)\n",
    "print(\"Data has been successfully cleaned\")"
   ]
  },
  {
   "cell_type": "code",
   "execution_count": null,
   "id": "cb5be2e4-d20e-4a93-a059-8a74499b19f2",
   "metadata": {},
   "outputs": [],
   "source": []
  }
 ],
 "metadata": {
  "kernelspec": {
   "display_name": "Python 3 (ipykernel)",
   "language": "python",
   "name": "python3"
  },
  "language_info": {
   "codemirror_mode": {
    "name": "ipython",
    "version": 3
   },
   "file_extension": ".py",
   "mimetype": "text/x-python",
   "name": "python",
   "nbconvert_exporter": "python",
   "pygments_lexer": "ipython3",
   "version": "3.12.7"
  }
 },
 "nbformat": 4,
 "nbformat_minor": 5
}

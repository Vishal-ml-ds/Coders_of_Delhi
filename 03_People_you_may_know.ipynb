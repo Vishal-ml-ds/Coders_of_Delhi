{
 "cells": [
  {
   "cell_type": "code",
   "execution_count": 16,
   "id": "8b334a9b-c8ce-4df2-b037-6998db1b4af1",
   "metadata": {},
   "outputs": [
    {
     "name": "stdout",
     "output_type": "stream",
     "text": [
      "[6, 3, 9, 2, 11]\n"
     ]
    }
   ],
   "source": [
    "import json\n",
    "\n",
    "def load_data(filename):\n",
    "    with open(filename , \"r\") as f:\n",
    "        return json.load(f)\n",
    "         \n",
    "def find_people_you_may_know(user_id , data):\n",
    "    user_friends = {}\n",
    "    for user in data[\"users\"]:\n",
    "        user_friends[user['id']] = set(user['friends'])\n",
    "    if user_id not in user_friends:\n",
    "        return []\n",
    "        \n",
    "    direct_friends = user_friends[user_id]\n",
    "    suggestions = {}\n",
    "    for friend in direct_friends:\n",
    "        for mutual in user_friends[friend]:\n",
    "            if mutual != user_id and mutual not in direct_friends:\n",
    "                suggestions[mutual] = suggestions.get(mutual , 0) + 1\n",
    "    sorted_suggestions = sorted(suggestions.items(), key = lambda x:x[1] , reverse = True)\n",
    "    return [user_id for user_id , mutual_count in sorted_suggestions]\n",
    "                                \n",
    "data = load_data(\"03_People_you_may_know_data.json\")\n",
    "user_id = 10\n",
    "rec = find_people_you_may_know(user_id , data)\n",
    "print(rec)"
   ]
  }
 ],
 "metadata": {
  "kernelspec": {
   "display_name": "Python 3 (ipykernel)",
   "language": "python",
   "name": "python3"
  },
  "language_info": {
   "codemirror_mode": {
    "name": "ipython",
    "version": 3
   },
   "file_extension": ".py",
   "mimetype": "text/x-python",
   "name": "python",
   "nbconvert_exporter": "python",
   "pygments_lexer": "ipython3",
   "version": "3.12.7"
  }
 },
 "nbformat": 4,
 "nbformat_minor": 5
}

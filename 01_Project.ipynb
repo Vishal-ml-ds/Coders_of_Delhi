{
 "cells": [
  {
   "cell_type": "code",
   "execution_count": 2,
   "id": "b0ad0645-2291-4bbe-9ea8-b2a8091dcc5b",
   "metadata": {},
   "outputs": [],
   "source": [
    "import json"
   ]
  },
  {
   "cell_type": "code",
   "execution_count": 3,
   "id": "20209083-72a6-4f0e-b599-13968926a02d",
   "metadata": {},
   "outputs": [],
   "source": [
    "def load_data(filename):\n",
    "    with open(filename, \"r\") as f:\n",
    "        data = json.load(f)\n",
    "    return data"
   ]
  },
  {
   "cell_type": "code",
   "execution_count": 4,
   "id": "95b2ee8b-3e3c-4a71-a77e-66a22123eb88",
   "metadata": {},
   "outputs": [],
   "source": [
    "data = load_data(\"01_data.json\")"
   ]
  },
  {
   "cell_type": "code",
   "execution_count": 6,
   "id": "1db128ae-9f88-4fe9-bda1-de7268d0ce60",
   "metadata": {},
   "outputs": [
    {
     "data": {
      "text/plain": [
       "{'users': [{'id': 1, 'name': 'Amit', 'friends': [2, 3], 'liked_pages': [101]},\n",
       "  {'id': 2, 'name': 'Priya', 'friends': [1, 4], 'liked_pages': [102]},\n",
       "  {'id': 3, 'name': 'Rahul', 'friends': [1], 'liked_pages': [101, 103]},\n",
       "  {'id': 4, 'name': 'Sara', 'friends': [2], 'liked_pages': [104]}],\n",
       " 'pages': [{'id': 101, 'name': 'Python Developers'},\n",
       "  {'id': 102, 'name': 'Data Science Enthusiasts'},\n",
       "  {'id': 103, 'name': 'AI & ML Community'},\n",
       "  {'id': 104, 'name': 'Web Dev Hub'}]}"
      ]
     },
     "execution_count": 6,
     "metadata": {},
     "output_type": "execute_result"
    }
   ],
   "source": [
    "data"
   ]
  },
  {
   "cell_type": "code",
   "execution_count": 7,
   "id": "7a3648ab-febe-46a2-bd54-4e1d58d943ed",
   "metadata": {},
   "outputs": [
    {
     "data": {
      "text/plain": [
       "dict"
      ]
     },
     "execution_count": 7,
     "metadata": {},
     "output_type": "execute_result"
    }
   ],
   "source": [
    "type(data)"
   ]
  },
  {
   "cell_type": "code",
   "execution_count": 8,
   "id": "0ca6911c-b98e-4524-9ae0-2c803607cfb3",
   "metadata": {},
   "outputs": [],
   "source": [
    "# write a function to display users and their connections"
   ]
  },
  {
   "cell_type": "code",
   "execution_count": 23,
   "id": "430b48f0-b4c8-4b74-a6bf-40c5f2f7ab9a",
   "metadata": {},
   "outputs": [
    {
     "name": "stdout",
     "output_type": "stream",
     "text": [
      "Users and their connections - \n",
      "\tUser Id - 1, Amit is friends with - [2, 3] and has liked pages [101]\n",
      "\tUser Id - 2, Priya is friends with - [1, 4] and has liked pages [102]\n",
      "\tUser Id - 3, Rahul is friends with - [1] and has liked pages [101, 103]\n",
      "\tUser Id - 4, Sara is friends with - [2] and has liked pages [104]\n",
      "\n",
      "Pages Information - \n",
      "\t101 - Python Developers\n",
      "\t102 - Data Science Enthusiasts\n",
      "\t103 - AI & ML Community\n",
      "\t104 - Web Dev Hub\n"
     ]
    }
   ],
   "source": [
    "def display_users(data):\n",
    "    print(\"Users and their connections - \")\n",
    "    for user in data['users']:\n",
    "        print(f\"\\tUser Id - {user['id']}, {user['name']} is friends with - {user['friends']} and has liked pages {user['liked_pages']}\")\n",
    "    print(\"\\nPages Information - \")\n",
    "    for page in data['pages']:\n",
    "        print(f\"\\t{page['id']} - {page['name']}\")\n",
    "\n",
    "display_users(data)"
   ]
  },
  {
   "cell_type": "code",
   "execution_count": null,
   "id": "519be330-84d5-4beb-aa2b-c204915c941a",
   "metadata": {},
   "outputs": [],
   "source": []
  }
 ],
 "metadata": {
  "kernelspec": {
   "display_name": "Python 3 (ipykernel)",
   "language": "python",
   "name": "python3"
  },
  "language_info": {
   "codemirror_mode": {
    "name": "ipython",
    "version": 3
   },
   "file_extension": ".py",
   "mimetype": "text/x-python",
   "name": "python",
   "nbconvert_exporter": "python",
   "pygments_lexer": "ipython3",
   "version": "3.12.7"
  }
 },
 "nbformat": 4,
 "nbformat_minor": 5
}

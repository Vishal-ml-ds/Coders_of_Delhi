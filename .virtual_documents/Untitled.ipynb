import json


def load_data(filename):
    with open(filename, "r") as f:
        data = json.load(f)
    return data


data = load_data("data.json")


data


type(data)


def display_user(data):
    print("user and Their Connections: \n")
    for user in data["user"]:
        print(f"{user['name']} (ID: {user['id']}) - Friends: {user['friends']} -Liked Pages: {user['liked_pages']}")


display_user(data)







{
 "cells": [
  {
   "cell_type": "code",
   "execution_count": 6,
   "id": "92cf42b0-10a6-4bc7-8a86-d87bca07d331",
   "metadata": {},
   "outputs": [
    {
     "name": "stdout",
     "output_type": "stream",
     "text": [
      "[(110, 6), (106, 5), (103, 4), (108, 4), (104, 2), (107, 2), (109, 1)]\n"
     ]
    }
   ],
   "source": [
    "import json\n",
    "\n",
    "# function to load the json data\n",
    "def load_data(filename):\n",
    "    with open(filename , \"r\") as f:\n",
    "        return json.load(f)\n",
    "\n",
    "# function to find pages user might like based on common interests\n",
    "def find_pages_you_might_like(user_id , data):\n",
    "    # dictionary to store user interactions with pages\n",
    "    user_pages = {}\n",
    "    # populate the dictionary\n",
    "    for user in data['users']:\n",
    "        user_pages[user['id']] = set(user['liked_pages'])\n",
    "    # if user not found, return an empty list\n",
    "    if user_id not in user_pages:\n",
    "        return []\n",
    "    user_liked_pages = user_pages[user_id]\n",
    "    page_suggestions = {}\n",
    "\n",
    "    for other_user, pages in user_pages.items():\n",
    "        if other_user != user_id:\n",
    "            # to compute the shared interest\n",
    "            shared_pages = user_liked_pages.intersection(pages)\n",
    "        for page in pages:\n",
    "            if page not in user_liked_pages:\n",
    "                page_suggestions[page] = page_suggestions.get(page, 0) + len(shared_pages)\n",
    "\n",
    "    sorted_pages = sorted(page_suggestions.items() ,\n",
    "                          key= lambda x:x[1] , reverse = True)\n",
    "    return [(page_id, score) for page_id , score in sorted_pages]        \n",
    "\n",
    "data = load_data(\"04_People_you_might_like_data.json\")\n",
    "user_id = 1\n",
    "page_recommendation = find_pages_you_might_like(user_id , data)\n",
    "print(page_recommendation)"
   ]
  }
 ],
 "metadata": {
  "kernelspec": {
   "display_name": "Python 3 (ipykernel)",
   "language": "python",
   "name": "python3"
  },
  "language_info": {
   "codemirror_mode": {
    "name": "ipython",
    "version": 3
   },
   "file_extension": ".py",
   "mimetype": "text/x-python",
   "name": "python",
   "nbconvert_exporter": "python",
   "pygments_lexer": "ipython3",
   "version": "3.12.7"
  }
 },
 "nbformat": 4,
 "nbformat_minor": 5
}
